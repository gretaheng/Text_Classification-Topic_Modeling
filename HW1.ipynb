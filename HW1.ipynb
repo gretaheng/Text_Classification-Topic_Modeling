{
 "cells": [
  {
   "cell_type": "markdown",
   "metadata": {},
   "source": [
    "# Assignment 1\n",
    "### Jie Heng\n",
    "### 1/12/2019"
   ]
  },
  {
   "cell_type": "code",
   "execution_count": 2,
   "metadata": {},
   "outputs": [],
   "source": [
    "import numpy as np\n",
    "import matplotlib.pyplot as plt"
   ]
  },
  {
   "cell_type": "markdown",
   "metadata": {},
   "source": [
    "### Q1 For an adjective of your choice, provide the concordance output for text 9"
   ]
  },
  {
   "cell_type": "code",
   "execution_count": 3,
   "metadata": {},
   "outputs": [
    {
     "name": "stdout",
     "output_type": "stream",
     "text": [
      "*** Introductory Examples for the NLTK Book ***\n",
      "Loading text1, ..., text9 and sent1, ..., sent9\n",
      "Type the name of the text or sentence to view it.\n",
      "Type: 'texts()' or 'sents()' to list the materials.\n",
      "text1: Moby Dick by Herman Melville 1851\n",
      "text2: Sense and Sensibility by Jane Austen 1811\n",
      "text3: The Book of Genesis\n",
      "text4: Inaugural Address Corpus\n",
      "text5: Chat Corpus\n",
      "text6: Monty Python and the Holy Grail\n",
      "text7: Wall Street Journal\n",
      "text8: Personals Corpus\n",
      "text9: The Man Who Was Thursday by G . K . Chesterton 1908\n"
     ]
    }
   ],
   "source": [
    "import nltk\n",
    "from nltk.book import *"
   ]
  },
  {
   "cell_type": "code",
   "execution_count": 18,
   "metadata": {},
   "outputs": [
    {
     "name": "stdout",
     "output_type": "stream",
     "text": [
      "Displaying 25 of 97 matches:\n",
      "and art admired decay ; The world was old and ended : but you and I were gay ; \n",
      "drone that stung ; The world was very old indeed when you and I were young . Th\n",
      " , believed . This is a tale of those old fears , even of those emptied hells ,\n",
      " in striking root and good in growing old . We have found common things at last\n",
      "oet ; but surely he was a poem . That old gentleman with the wild , white beard\n",
      "laughed at the end of it . He put the old cant of the lawlessness of art and th\n",
      "oman , the maternal watch which is as old as the world . \" Is he really an anar\n",
      "that bishops are strange and terrible old men keeping a cruel secret from manki\n",
      "etimes heard in church . Then a large old man , with a long and venerable white\n",
      "was shabby in those days . He wore an old - fashioned black chimney - pot hat ;\n",
      "ot hat ; he was wrapped in a yet more old - fashioned cloak , black and ragged \n",
      "at education I had was very rough and old - fashioned , I am afraid .\" \" Where \n",
      "r inquiry , like a man speaking to an old colleague . \" If we walk up towards L\n",
      "ge brain is going a little mad in its old age . For now we flaunt ourselves bef\n",
      "ps . Then came Syme , and next a very old man , Professor de Worms , who still \n",
      "ing at ordinary men , one of whom was old , another nervous , another short - s\n",
      "ng . He could only fancy , as in some old - world fable , that if a man went we\n",
      " . He even thought of him now with an old kindness , as if they had played toge\n",
      "rters of a glass of tepid water . The old Professor had such slops as suggested\n",
      "nife was merely the expression of the old personal quarrel with a personal tyra\n",
      " \" it hardly seems worth doing .\" The old Professor was staring at the ceiling \n",
      "ned into fancy constables , or of the old eccentric who lived in the dark room \n",
      "t Chretiens ont droit .\" which in the old nasal French has the clang and groan \n",
      "f the barrel - organ could keep their old - world obligations , so could he . T\n",
      " man standing there was the paralytic old Professor de Worms . It scarcely seem\n"
     ]
    }
   ],
   "source": [
    "text9.concordance(\"old\")"
   ]
  },
  {
   "cell_type": "markdown",
   "metadata": {},
   "source": [
    "### Q2 Provide the “similar” words, and comment on them. (e.g. How “similar” are they?)"
   ]
  },
  {
   "cell_type": "code",
   "execution_count": 17,
   "metadata": {},
   "outputs": [
    {
     "name": "stdout",
     "output_type": "stream",
     "text": [
      "silent clear good little real new big celebrated worst the a ended you\n",
      "proudly young not weak absurd far sudden\n"
     ]
    }
   ],
   "source": [
    "text9.similar(\"old\")"
   ]
  },
  {
   "cell_type": "markdown",
   "metadata": {},
   "source": [
    "Some results make sense, like words weak, proudly, celebrated, far, worst, big, little, clear, good, silent, real, and ended. Some adjectives, like young and new, are the opposites of similar. However, there are also some words that are not ajectives or related with old, like a, the, you, sudden and not."
   ]
  },
  {
   "cell_type": "markdown",
   "metadata": {},
   "source": [
    "### Q3 Choose a second term from the concordance output, and provide the “common contexts” using the adjective in Q1 and this second term."
   ]
  },
  {
   "cell_type": "code",
   "execution_count": 23,
   "metadata": {},
   "outputs": [
    {
     "name": "stdout",
     "output_type": "stream",
     "text": [
      "the_man the_innkeeper\n"
     ]
    }
   ],
   "source": [
    "text9.common_contexts([\"old\", \"good\"])"
   ]
  },
  {
   "cell_type": "markdown",
   "metadata": {},
   "source": [
    "Common_contexts shows when the use of a list of words share the same surrounding words. We could use old and good to describe a person (man and innkeeper)."
   ]
  },
  {
   "cell_type": "markdown",
   "metadata": {},
   "source": [
    "### Q4 Provide a dispersion plot for the two words in Q3 in text 9."
   ]
  },
  {
   "cell_type": "code",
   "execution_count": 29,
   "metadata": {},
   "outputs": [
    {
     "data": {
      "image/png": "[encoded data removed]",
      "text/plain": [
       "<matplotlib.figure.Figure at 0x24b55077278>"
      ]
     },
     "metadata": {},
     "output_type": "display_data"
    }
   ],
   "source": [
    "text9.dispersion_plot([\"old\", \"good\"])"
   ]
  },
  {
   "cell_type": "markdown",
   "metadata": {},
   "source": [
    "Old could mean experienced, which is the synonym of good. So the plot shows that sometimes the location of old and good are similar. "
   ]
  },
  {
   "cell_type": "markdown",
   "metadata": {},
   "source": [
    "### Q5 Provide the raw length of text 9 (in characters/letters)."
   ]
  },
  {
   "cell_type": "code",
   "execution_count": 31,
   "metadata": {},
   "outputs": [
    {
     "data": {
      "text/plain": [
       "69213"
      ]
     },
     "execution_count": 31,
     "metadata": {},
     "output_type": "execute_result"
    }
   ],
   "source": [
    "len(text9)"
   ]
  },
  {
   "cell_type": "markdown",
   "metadata": {},
   "source": [
    "\n",
    "### Q6 Provide the number of times the adjective you chose in 1 occurs in text 9."
   ]
  },
  {
   "cell_type": "code",
   "execution_count": 32,
   "metadata": {},
   "outputs": [
    {
     "data": {
      "text/plain": [
       "97"
      ]
     },
     "execution_count": 32,
     "metadata": {},
     "output_type": "execute_result"
    }
   ],
   "source": [
    "text9.count(\"old\")"
   ]
  },
  {
   "cell_type": "markdown",
   "metadata": {},
   "source": [
    "### Q7 Provide the number of tokens in text 9 (use “set” to get the tokens)."
   ]
  },
  {
   "cell_type": "code",
   "execution_count": 33,
   "metadata": {},
   "outputs": [
    {
     "data": {
      "text/plain": [
       "6807"
      ]
     },
     "execution_count": 33,
     "metadata": {},
     "output_type": "execute_result"
    }
   ],
   "source": [
    "len(set(text9))"
   ]
  },
  {
   "cell_type": "code",
   "execution_count": 6,
   "metadata": {},
   "outputs": [
    {
     "data": {
      "text/plain": [
       "'['"
      ]
     },
     "execution_count": 6,
     "metadata": {},
     "output_type": "execute_result"
    }
   ],
   "source": [
    "text9[0]"
   ]
  },
  {
   "cell_type": "markdown",
   "metadata": {},
   "source": [
    "### Q8 Provide the lexical diversity scores for all 9 texts, and comment on where yours falls (and speculate why)."
   ]
  },
  {
   "cell_type": "code",
   "execution_count": 36,
   "metadata": {},
   "outputs": [],
   "source": [
    "def lexical_diversity(text):   \n",
    "    return len(set(text)) / len(text)"
   ]
  },
  {
   "cell_type": "code",
   "execution_count": 40,
   "metadata": {},
   "outputs": [],
   "source": [
    "diversity = []\n",
    "textind = []\n",
    "text = [text1,text2,text3,text4,text5,text6,text7,text8,text9]\n",
    "for i in range(1,10):\n",
    "    textind.append('text'+str(i))\n",
    "for i in text: \n",
    "    diversity.append(lexical_diversity(i))"
   ]
  },
  {
   "cell_type": "code",
   "execution_count": 38,
   "metadata": {},
   "outputs": [
    {
     "data": {
      "text/plain": [
       "[0.07406285585022564,\n",
       " 0.04826383002768831,\n",
       " 0.06230453042623537,\n",
       " 0.06692970116993173,\n",
       " 0.13477005109975562,\n",
       " 0.1276595744680851,\n",
       " 0.12324685128531129,\n",
       " 0.22765564002465585,\n",
       " 0.0983485761345412]"
      ]
     },
     "execution_count": 38,
     "metadata": {},
     "output_type": "execute_result"
    }
   ],
   "source": [
    "diversity"
   ]
  },
  {
   "cell_type": "code",
   "execution_count": 42,
   "metadata": {},
   "outputs": [
    {
     "data": {
      "text/plain": [
       "['text1',\n",
       " 'text2',\n",
       " 'text3',\n",
       " 'text4',\n",
       " 'text5',\n",
       " 'text6',\n",
       " 'text7',\n",
       " 'text8',\n",
       " 'text9']"
      ]
     },
     "execution_count": 42,
     "metadata": {},
     "output_type": "execute_result"
    }
   ],
   "source": [
    "textind"
   ]
  },
  {
   "cell_type": "code",
   "execution_count": 45,
   "metadata": {},
   "outputs": [
    {
     "data": {
      "text/plain": [
       "Text(0.5,1,'Lexical Diversity Score')"
      ]
     },
     "execution_count": 45,
     "metadata": {},
     "output_type": "execute_result"
    },
    {
     "data": {
      "image/png": "[encoded data removed]",
      "text/plain": [
       "<matplotlib.figure.Figure at 0x24b5511a5c0>"
      ]
     },
     "metadata": {},
     "output_type": "display_data"
    }
   ],
   "source": [
    "plt.plot(textind, diversity)\n",
    "plt.title(\"Lexical Diversity Score\")"
   ]
  },
  {
   "cell_type": "markdown",
   "metadata": {},
   "source": [
    "The theme of each text is: \n",
    "\n",
    "\n",
    "    text1: Moby Dick by Herman Melville 1851\n",
    "    text2: Sense and Sensibility by Jane Austen 1811\n",
    "    text3: The Book of Genesis\n",
    "    text4: Inaugural Address Corpus\n",
    "    text5: Chat Corpus\n",
    "    text6: Monty Python and the Holy Grail\n",
    "    text7: Wall Street Journal\n",
    "    text8: Personals Corpus\n",
    "    text9: The Man Who Was Thursday by G . K . Chesterton 1908"
   ]
  },
  {
   "cell_type": "markdown",
   "metadata": {},
   "source": [
    "The plot shows lexical richness for each text. Text 9 ranks 4th text with the highest lexical diversity score. Lexcial richness is related with the diversity of topics, the number of authors and the period. Compared with text1-2, though text 1,2 and 9 are all novels, text 9 is written in the 20th century. I think language was developed richer in 1908 than it was in the 19th century. Text 8 has the highest score as this text is contributed by several writters. Text 5, 6 and 9 have similar scores that are much higher than text 3 and 4, the reason of which might be text 3 and 4 have relative less diverse topics."
   ]
  },
  {
   "cell_type": "markdown",
   "metadata": {},
   "source": [
    "### Q9 Provide the same as in #5-8 above for a “slice” (also called a “subset” or a “chunk”) of text 9 of at least 1000 words. Comment on what the lexical diversity score for these 1000 words versus the score for text 9 as a whole indicates."
   ]
  },
  {
   "cell_type": "code",
   "execution_count": 78,
   "metadata": {},
   "outputs": [],
   "source": [
    "textshort = text9[:1000]"
   ]
  },
  {
   "cell_type": "code",
   "execution_count": 84,
   "metadata": {},
   "outputs": [
    {
     "name": "stdout",
     "output_type": "stream",
     "text": [
      "Q5: The length of subset is 1000\n",
      "Q6: The adjective ('old') shows 5 times in my text\n",
      "Q7: There are 456 tokens in my text\n",
      "Q8: The lexical diversity scores is 0.456\n"
     ]
    }
   ],
   "source": [
    "print(\"Q5: The length of subset is\", len(textshort))\n",
    "print(\"Q6: The adjective ('old') shows\", textshort.count(\"old\"), \"times in my text\")\n",
    "print(\"Q7: There are\", len(set(textshort)), \"tokens in my text\")\n",
    "print(\"Q8: The lexical diversity scores is\" ,lexical_diversity(textshort))"
   ]
  },
  {
   "cell_type": "markdown",
   "metadata": {},
   "source": [
    "The lexical diversity score, 0.456, for these 1000 words is much higher than the text as a whole (0.0983485761345412)."
   ]
  },
  {
   "cell_type": "markdown",
   "metadata": {},
   "source": [
    "### Q10 Provide the most common 50 words in text 9 (the 50 “most frequent”). Comment on whether any of them are surprising to you."
   ]
  },
  {
   "cell_type": "code",
   "execution_count": 75,
   "metadata": {},
   "outputs": [
    {
     "data": {
      "text/plain": [
       "[(',', 3488),\n",
       " ('the', 3291),\n",
       " ('.', 2717),\n",
       " ('a', 1713),\n",
       " ('of', 1710),\n",
       " ('and', 1568),\n",
       " ('\"', 1336),\n",
       " ('to', 1045),\n",
       " ('in', 888),\n",
       " ('I', 885),\n",
       " ('he', 858),\n",
       " ('that', 841),\n",
       " ('his', 765),\n",
       " ('was', 716),\n",
       " ('you', 580),\n",
       " ('it', 565),\n",
       " ('with', 544),\n",
       " ('Syme', 515),\n",
       " (',\"', 507),\n",
       " ('said', 507),\n",
       " (\"'\", 496),\n",
       " ('is', 462),\n",
       " ('as', 456),\n",
       " ('had', 427),\n",
       " ('.\"', 391),\n",
       " ('not', 355),\n",
       " (';', 331),\n",
       " ('The', 326),\n",
       " ('at', 324),\n",
       " ('-', 294),\n",
       " ('on', 289),\n",
       " ('but', 282),\n",
       " ('for', 279),\n",
       " ('him', 278),\n",
       " ('all', 277),\n",
       " ('man', 272),\n",
       " ('He', 268),\n",
       " ('like', 260),\n",
       " ('be', 254),\n",
       " ('this', 253),\n",
       " ('have', 247),\n",
       " ('are', 239),\n",
       " ('they', 233),\n",
       " ('an', 232),\n",
       " ('s', 224),\n",
       " ('were', 222),\n",
       " ('out', 209),\n",
       " ('?\"', 203),\n",
       " ('which', 198),\n",
       " ('one', 187)]"
      ]
     },
     "execution_count": 75,
     "metadata": {},
     "output_type": "execute_result"
    }
   ],
   "source": [
    "fdist = FreqDist(text9)\n",
    "fdist.most_common(50)"
   ]
  },
  {
   "cell_type": "markdown",
   "metadata": {},
   "source": [
    "All words and punctuations are very common. The text is a story about a man, Syme, so it makes sense that \"Syme\", \"man\", \"he\", \"He\", \"his\" and \"him\". \n"
   ]
  },
  {
   "cell_type": "markdown",
   "metadata": {},
   "source": [
    "### Q11 Provide all words longer than 12 letters."
   ]
  },
  {
   "cell_type": "code",
   "execution_count": 62,
   "metadata": {},
   "outputs": [],
   "source": [
    "textset = set(text9)"
   ]
  },
  {
   "cell_type": "code",
   "execution_count": 63,
   "metadata": {},
   "outputs": [],
   "source": [
    "longl= [i for i in textset if len(i) > 12]"
   ]
  },
  {
   "cell_type": "code",
   "execution_count": 64,
   "metadata": {},
   "outputs": [
    {
     "name": "stdout",
     "output_type": "stream",
     "text": [
      "['respectability', 'UNACCOUNTABLE', 'communicative', 'indescribable', 'instinctively', 'contradiction', 'incomprehensible', 'contemplation', 'assassination', 'Mediterranean', 'revolutionise', 'conventionally', 'cinematograph', 'contemptuously', 'communication', 'unexplainable', 'psychologically', 'philosophical', 'thunderstruck', 'differentiation', 'revolutionary', 'responsibility', 'exaggeratively', 'dispassionately', 'diplomatically', 'intellectually', 'rationalistic', 'disadvantages', 'revolutionist', 'conscientious', 'representative', 'characteristic', 'determination', 'embarrassment', 'reconciliation', 'inexperienced', 'uncontrollable', 'unquestionable', 'circumstances', 'unaccountably', 'inexpressibly', 'controversial', 'revolutionists', 'uncompromising', 'compassionate', 'indecipherable', 'parliamentarian', 'unforgettable', 'possibilities', 'unpretentious', 'apologetically', 'advertisement', 'unconsciously', 'superstitious', 'uncomfortable', 'distinguished', 'Extraordinary', 'comparatively', 'perambulators', 'thoroughfares', 'disproportion', 'vegetarianism', 'congratulated', 'ecclesiastical', 'neighbourhood', 'Nonconformists', 'improvisation', 'inexhaustible', 'Theoretically', 'unquestionably', 'unaccountable', 'Impressionism', 'irreconcilable', 'philanthropic', 'bewilderments', 'eccentricities', 'mathematicians', 'intellectualism', 'psychological', 'unintelligible', 'unobtrusively', 'companionship', 'corresponding', 'insupportable', 'communications', 'superciliously', 'foreshortened', 'simultaneously', 'conversational', 'sentimentalists', 'sarcastically', 'investigation', 'transformation', 'discoloration', 'understanding', 'instantaneous', 'introspective', 'misunderstood', 'companionable', 'incredulously', 'undenominational', 'extraordinary', 'professionally']\n"
     ]
    }
   ],
   "source": [
    "print(longl) "
   ]
  },
  {
   "cell_type": "markdown",
   "metadata": {},
   "source": [
    "### Q12 Provide the collocations for your text"
   ]
  },
  {
   "cell_type": "code",
   "execution_count": 66,
   "metadata": {},
   "outputs": [
    {
     "name": "stdout",
     "output_type": "stream",
     "text": [
      "said Syme; asked Syme; Saffron Park; Comrade Gregory; Leicester\n",
      "Square; Colonel Ducroix; red hair; old gentleman; could see; Inspector\n",
      "Ratcliffe; Anarchist Council; blue card; Scotland Yard; dark room;\n",
      "blue eyes; common sense; straw hat; hundred yards; said Gregory; run\n",
      "away\n"
     ]
    }
   ],
   "source": [
    "text9.collocations()"
   ]
  },
  {
   "cell_type": "markdown",
   "metadata": {},
   "source": [
    "### Q13 Provide the top 10 most frequent word lengths in your text. What do the frequencies of word lengths tell you about your text? (Compare with the other texts if you like.)"
   ]
  },
  {
   "cell_type": "code",
   "execution_count": 68,
   "metadata": {},
   "outputs": [],
   "source": [
    "fdist = FreqDist(len(i) for i in text9)"
   ]
  },
  {
   "cell_type": "code",
   "execution_count": 72,
   "metadata": {},
   "outputs": [],
   "source": [
    "len_fdist = FreqDist(fdist)"
   ]
  },
  {
   "cell_type": "code",
   "execution_count": 73,
   "metadata": {},
   "outputs": [
    {
     "data": {
      "text/plain": [
       "[(3, 13759),\n",
       " (1, 11957),\n",
       " (4, 11418),\n",
       " (2, 11363),\n",
       " (5, 6550),\n",
       " (6, 4623),\n",
       " (7, 3820),\n",
       " (8, 2194),\n",
       " (9, 1853),\n",
       " (10, 924)]"
      ]
     },
     "execution_count": 73,
     "metadata": {},
     "output_type": "execute_result"
    }
   ],
   "source": [
    "len_fdist.most_common(10)"
   ]
  },
  {
   "cell_type": "code",
   "execution_count": 85,
   "metadata": {},
   "outputs": [
    {
     "data": {
      "text/plain": [
       "[(3, 16993),\n",
       " (2, 14856),\n",
       " (1, 14821),\n",
       " (4, 13068),\n",
       " (5, 10573),\n",
       " (7, 8245),\n",
       " (6, 7198),\n",
       " (8, 5237),\n",
       " (9, 4027),\n",
       " (10, 2466)]"
      ]
     },
     "execution_count": 85,
     "metadata": {},
     "output_type": "execute_result"
    }
   ],
   "source": [
    "fdist1 = FreqDist(len(i) for i in text7)\n",
    "len_fdist1 = FreqDist(fdist1)\n",
    "len_fdist1.most_common(10)"
   ]
  },
  {
   "cell_type": "markdown",
   "metadata": {},
   "source": [
    "The results of text 9 and text 7 look similar. I thought text 7 (WSJ) would have longer words with higher rank, as it would use more professional words. The most frequent word lengths in texts might not be very long even in journals. I am curious that will we have the similar result if we run the codes on academic papers?"
   ]
  },
  {
   "cell_type": "code",
   "execution_count": null,
   "metadata": {},
   "outputs": [],
   "source": []
  },
  {
   "cell_type": "code",
   "execution_count": null,
   "metadata": {},
   "outputs": [],
   "source": []
  }
 ],
 "metadata": {
  "kernelspec": {
   "display_name": "Python 3",
   "language": "python",
   "name": "python3"
  },
  "language_info": {
   "codemirror_mode": {
    "name": "ipython",
    "version": 3
   },
   "file_extension": ".py",
   "mimetype": "text/x-python",
   "name": "python",
   "nbconvert_exporter": "python",
   "pygments_lexer": "ipython3",
   "version": "3.6.4"
  }
 },
 "nbformat": 4,
 "nbformat_minor": 2
}
