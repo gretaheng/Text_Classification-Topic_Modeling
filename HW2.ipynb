{
 "cells": [
  {
   "cell_type": "markdown",
   "metadata": {},
   "source": [
    "## Part 1"
   ]
  },
  {
   "cell_type": "code",
   "execution_count": 1,
   "metadata": {},
   "outputs": [],
   "source": [
    "from nytimesarticle import articleAPI\n",
    "api = articleAPI('tcrAZ92puwt0ApwLWpHkLjS9JIYb35SZ')\n",
    "from bs4 import BeautifulSoup\n",
    "from urllib.request import *\n",
    "from nltk import word_tokenize\n",
    "import nltk\n",
    "from nltk.corpus import stopwords"
   ]
  },
  {
   "cell_type": "code",
   "execution_count": 2,
   "metadata": {},
   "outputs": [],
   "source": [
    "articles = api.search( q = 'President Xi' )"
   ]
  },
  {
   "cell_type": "code",
   "execution_count": 3,
   "metadata": {},
   "outputs": [
    {
     "name": "stdout",
     "output_type": "stream",
     "text": [
      "\n",
      "--1--\n",
      "\n",
      "status\n",
      "copyright\n",
      "response\n",
      "\n",
      "--2--\n",
      "\n",
      "docs\n",
      "meta\n",
      "\n",
      "--3--\n",
      "\n",
      "web_url\n",
      "snippet\n",
      "blog\n",
      "source\n",
      "multimedia\n",
      "headline\n",
      "keywords\n",
      "pub_date\n",
      "document_type\n",
      "news_desk\n",
      "byline\n",
      "type_of_material\n",
      "_id\n",
      "word_count\n",
      "score\n",
      "uri\n",
      "\n",
      "--4--\n",
      "\n",
      "https://www.nytimes.com/2018/12/18/briefing/president-xi-kpop-huawei.html\n",
      "Let us help you start your day.\n",
      "\n",
      "--5--\n",
      "\n",
      "https://www.nytimes.com/2018/12/18/briefing/president-xi-kpop-huawei.html\n",
      "https://www.nytimes.com/2018/02/26/world/asia/xi-jinping-career-highlights.html\n",
      "https://www.nytimes.com/2018/02/25/world/asia/xi-jinping-china.html\n",
      "https://www.nytimes.com/2019/01/13/opinion/kim-jong-un-trump-china.html\n",
      "https://www.nytimes.com/reuters/2019/01/23/technology/23reuters-china-markets-tech.html\n",
      "https://www.nytimes.com/2018/12/09/opinion/trade-war-truce-trump-china.html\n",
      "https://www.nytimes.com/2017/11/10/insider/the-last-time-president-xi-took-a-question-from-an-american-correspondent.html\n",
      "https://www.nytimes.com/aponline/2019/01/21/world/asia/ap-as-china-cambodia.html\n",
      "https://www.nytimes.com/reuters/2019/01/20/world/asia/20reuters-china-northkorea.html\n",
      "https://www.nytimes.com/2018/11/25/opinion/china-philippines-visit-apec-trump.html\n"
     ]
    }
   ],
   "source": [
    "mylink = []\n",
    "print('\\n--1--\\n')\n",
    "    \n",
    "for element in articles:\n",
    "    print(element)\n",
    "\n",
    "print('\\n--2--\\n')\n",
    "    \n",
    "for element in articles['response']:\n",
    "    print(element)\n",
    "\n",
    "print('\\n--3--\\n')\n",
    "    \n",
    "for element in articles['response']['docs'][0]:\n",
    "    print(element)\n",
    "\n",
    "print('\\n--4--\\n')\n",
    "\n",
    "print(articles['response']['docs'][0]['web_url'])\n",
    "print(articles['response']['docs'][0]['snippet'])\n",
    "\n",
    "print('\\n--5--\\n')\n",
    "\n",
    "for element in articles['response']['docs']:\n",
    "    mylink.append(element['web_url'])\n",
    "    print(element['web_url'])"
   ]
  },
  {
   "cell_type": "code",
   "execution_count": 4,
   "metadata": {},
   "outputs": [],
   "source": [
    "# save articles about president Xi to a dictionary, with title as key and content as value\n",
    "mydic = {}\n",
    "for link in mylink:\n",
    "    xhtml = urlopen(link)\n",
    "    xsource = xhtml.read()\n",
    "    xsoup = BeautifulSoup(xsource, 'html.parser')\n",
    "    content_raw = xsoup.find_all(\"div\", {\"class\": \"css-u5vfum StoryBodyCompanionColumn\"})\n",
    "    mycontent = []\n",
    "    for p in content_raw:\n",
    "        mycontent.append(p.get_text())\n",
    "    mytitle = xsoup.head.title.get_text()\n",
    "    mydic[mytitle] = mycontent"
   ]
  },
  {
   "cell_type": "code",
   "execution_count": 5,
   "metadata": {},
   "outputs": [
    {
     "name": "stdout",
     "output_type": "stream",
     "text": [
      "President Xi, K-Pop, Huawei: Your Wednesday Briefing - The New York Times\n",
      "President Xi Jinping’s Rise in China, as Covered by The Times - The New York Times\n",
      "President Xi’s Strongman Rule Raises New Fears of Hostility and Repression - The New York Times\n",
      "Taiwan President Calls for International Support to Defend Democracy - The New York Times\n",
      "Opinion | China Gives Kim Jong-un a Boost - The New York Times\n",
      "U.S. Government Official Says Trade Talks With China Continuing Wednesday - The New York Times\n",
      "Train Believed to Be Carrying North Korea's Kim Leaves Beijing - The New York Times\n",
      "Opinion | Tete-a-tete after tit-for-tat - The New York Times\n",
      "The Last Time President Xi Took a Question From an American Correspondent? 2014, and Yup, It Was Mine - The New York Times\n"
     ]
    }
   ],
   "source": [
    "# check title\n",
    "for title in mydic:\n",
    "    print(title)"
   ]
  },
  {
   "cell_type": "code",
   "execution_count": 12,
   "metadata": {},
   "outputs": [
    {
     "data": {
      "text/plain": [
       "['Leader Kim Jong-un of North Korea has met for a fourth time with China’s president, Xi Jinping. He’s still waiting for a second coveted summit with President Trump. With Beijing seemingly in his corner, and few words from the White House, Mr. Kim has mused about possibly finding “a new way” forward on denuclearization.Follow The New York Times Opinion section on Facebook, Twitter (@NYTopinion) and Instagram.']"
      ]
     },
     "execution_count": 12,
     "metadata": {},
     "output_type": "execute_result"
    }
   ],
   "source": [
    "mydic[\"Opinion | China Gives Kim Jong-un a Boost - The New York Times\"]"
   ]
  },
  {
   "cell_type": "code",
   "execution_count": 6,
   "metadata": {},
   "outputs": [
    {
     "data": {
      "text/plain": [
       "['HONG KONG — The announcement that the Chinese Communist Party intends to drop a two-term limit on the presidency is the latest sign that Xi Jinping is moving to strengthen the authority of the government and his position atop it.By upending a model of collective leadership that was put in place after the excesses of one-man rule and the power struggles that followed the deaths of Mao Zedong and Deng Xiaoping, President Xi has shown a determination to rewrite the rule book but also to reimpose older norms of a strong single leader ruling China. The prospect that he will rule for years to come has raised concerns about oppression at home and potential truculence abroad.Mr. Xi, the son of Communist Party elite, came to power with a long history of working his way up the ranks of officialdom, deftly sidelining rivals and rolling over dissent as he cultivated alliances and strengthened his control over the government, the economy and the military.Here is a guide to The New York Times’s coverage of the key moments of his life and political career.',\n",
       " 'Born to the Communist Party elite■ Mr. Xi is the son of Xi Zhongxun, a revolutionary leader under Mao Zedong who served as vice premier. When the elder Xi was purged by Mao in the 1960s, his family suffered, too. A bookish young boy, Xi Jinping “hardened into a combative street survivor” during the first two years of the Cultural Revolution, when he was a target of abuse.■ In an interview describing his experiences during the Cultural Revolution, Mr. Xi said he was smiling when he was sent to work in the countryside along with millions of other “sent-down youth,” while everyone else on the train from Beijing was crying. He said he was happy because he knew that leaving the capital meant he would survive.Showing a deft political touch early on■ After the Cultural Revolution, when people were still trying to return to the cities from the countryside, Mr. Xi made an unusual request to be given a leadership post in a poor rural area. The move revealed his shrewdness as he built Communist Party ties and developed a record of local leadership.■ Later, he took up positions in Fujian and Zhejiang, coastal provinces that have been centers of economic growth. There, he showed a pragmatic style and an ability to balance the interests of powerful officials and big business.',\n",
       " 'Confronting corruption and centralizing power■ After rising to the top of the Communist Party in November 2012 and the presidency four months later, Mr. Xi began an aggressive campaign against corruption that sidelined many key political rivals, or “tigers,” and punished tens of thousands of lower officials, or “flies.” The “most dangerous tiger yet,” Zhou Yongkang, the former head of domestic security, was sentenced to life in prison for abuse of power, accepting bribes and revealing state secrets. Mr. Zhou was the first retired or active member of the elite Politburo Standing Committee to face charges.',\n",
       " '■ While the announcement about ending term limits was itself a surprise, Mr. Xi has sent consistent signals that he wanted to stick around longer than his predecessors Jiang Zemin and Hu Jintao, who each served two five-year terms as president. Last fall the Communist Party revealed a new Politburo Standing Committee, but not one of the six men standing with Mr. Xi was his heir apparent. At the same meeting, the party added “Xi Jinping Thought” to the Constitution, an ideological status equivalent to Mao.Projecting a softer image■ While Mr. Xi has used a steely edge to consolidate power, he has tried to convey an image of a softer, more human leader than his predecessors. “He has made the sorts of casual visits that were rare for modern Chinese leaders — for example, visiting a steamed bun shop for lunch in 2013.”',\n",
       " 'Controlling the military and economic leadership■ Mr. Xi has moved to strengthen control over China’s military, toppling top generals in the anticorruption campaign and shrinking troop numbers while investing more in the ability of air and naval forces to project power.■ He has also played a central role in economic decision making, a role that traditionally has been taken up by China’s premier. His promotion of infrastructure projects around the world under the Belt and Road initiative aims to “use China’s wealth and industrial know-how to create a new kind of globalization that will dispense with the rules of the aging Western-dominated institutions.”Crackdown on dissent and tough talk for Hong Kong■ Mr. Xi has also carried out a broad crackdown on dissent, “sidelining lawyers, journalists, academics and activists who stand in the party’s way.” Last year Liu Xiaobo, the Nobel Peace Prize laureate who was imprisoned for organizing a pro-democracy manifesto, died under guard in a hospital.■ Mr. Xi has also taken a tough stance on Taiwan, the self-ruled island that China claims as part of its territory, and Hong Kong, the semiautonomous Chinese city where people have protested against Beijing’s growing influence. In a speech in Hong Kong last year he warned against “any attempt to endanger China’s sovereignty and security” or to “challenge the power of the central government.”']"
      ]
     },
     "execution_count": 6,
     "metadata": {},
     "output_type": "execute_result"
    }
   ],
   "source": [
    "# check content of one article\n",
    "mydic['President Xi Jinping’s Rise in China, as Covered by The Times - The New York Times']"
   ]
  },
  {
   "cell_type": "code",
   "execution_count": 7,
   "metadata": {},
   "outputs": [],
   "source": [
    "# Use one article for this assignment\n",
    "text = \"\"\n",
    "for k,v in mydic.items():\n",
    "    for p in v:\n",
    "        text += p"
   ]
  },
  {
   "cell_type": "code",
   "execution_count": 8,
   "metadata": {},
   "outputs": [
    {
     "name": "stdout",
     "output_type": "stream",
     "text": [
      "(Want to get this briefing by email? Here’s the sign-up.)Good morning. President Xi Jinping’s unabashed defiance, K-pop’s unintended impact on air travel and Huawei’s aggressive corporate culture.  Xi Jinping doubles down. In a speech on the 40th anniversary of China’s economic liberalization efforts, President Xi, depicted above, delivered an unabashed defense of his economic policies.The Communist Party has been solely responsible for the country’s stunning growth, he argued, and its policies of control have been “totally correct.”He only obliquely referred to the elephant in the room: the trade war with the U.S. “No one is in a position to dictate to the Chinese people what should not be done,” he said.→ Takeaways: The speech doused hopes that Mr. Xi was ready to announce reforms that would make the economy more market-friendly and suggest potential compromises with the United States. Mr. Xi’s defiance drove Asian markets down._____ Trump Foundation to shut down. Adding to President Trump’s growing legal problems, his charity — the Donald J. Trump Foundation — will close amid a lawsuit accusing the Trump family of using its funds for personal and political gains. Above, Trump Tower in New York.The New York attorney general, Barbara Underwood, announced the news. She said the suit filed by her office had detailed “a shocking pattern of illegality,” including coordinating with Mr. Trump’s 2016 presidential campaign and even buying a $10,000 portrait of the president.However, a lawyer for the foundation portrayed the closure as one sought by the organization itself — and delayed by the attorney general.→ Speaking of legal trouble: A judge postponed sentencing Michael Flynn, the president’s first national security adviser, but harshly rebuked him for lying to federal investigators about his contacts with Russians and hiding his lobbying role for Turkey._____ Tech giants withheld Russia data.Amid the many troubling facts in two reports the U.S. Senate published this week on Russia’s election interference: Social media companies withheld crucial information from investigators.The reports, by two cybersecurity firms the Senate hired to trace Russian influence, said the companies “evaded” and “misrepresented” the extent of the Russian activity, and when they did hand over data, they often did so in formats that made them difficult to analyze.The reports renewed criticism of social media companies and raised fresh concerns about their willingness to address the issue.→ Instagram’s role: Here’s a look at posts that exemplify Russia’s tactics._____ Air travel’s latest nuisance: K-pop fans.Frenzied K-pop fans, pictured above, have found a new way to get a little closer to their favorite stars: They book first class seats, board planes to get a selfie or an autograph and then disembark and cancel their tickets just before the gates close.But these fans have angered passengers and airline officials alike, because their departures activate regulations that mean all passengers have to leave the plane and undergo another security check.Korean Air announced increased financial penalties in an effort to tamp down on the new and unusual chaos.→ North Korea fears K-pop: A state-run newspaper cited circulation of the wildly popular music genre as one of the disruptive influences of smartphones that have started to trickle into the hermetically sealed country._____Business Huawei employees have a name for the company’s aggressive corporate spirit: “wolf culture.” It helped propel the company ahead of competitors — but has also landed it in trouble. Self-driving cars carrying passengers are slow to become a reality, so some start-ups are looking for other uses for the technology, like grocery deliveries. Walt Mossberg, a leading tech journalist who has spent decades following Silicon Valley, quit Facebook. “My own values and the policies and actions of Facebook have diverged to the point where I’m no longer comfortable here,” he wrote in a post. U.S. stocks were up. Here’s a snapshot of global markets.In the News In Kashmir, a disputed region between India and Pakistan, 240 militants were killed by Indian security forces this year, the most in more than a decade. The civilian toll is growing, too. Above, protestors clashing with Indian security forces.  The White House signaled that President Trump might be backing down on his demand for border wall funding from Congress, easing fears of a government shutdown.  The British Parliament said it would ramp up contingency plans for a chaotic departure from the E.U., including putting thousands of troops on standby. But some speculated that the unusually public announcement was a scare tactic to persuade Parliament to endorse Prime Minister Theresa May’s plans.  The Trump administration banned bump stocks, the attachments that enable semiautomatic rifles to fire in sustained bursts that a gunman used to massacre 58 people in Las Vegas last year.  Detainees at a Chinese internment camp in Xinjiang have been manufacturing clothes for a U.S. sportswear brand, highlighting the difficulty of stopping items made with forced labor from entering the global supply chain.  New Zealand will hold a referendum in 2020 on legalizing recreational marijuana, officials said, apparently making it the first country to put the issue to a nationwide vote.  Drones are delivering children’s vaccines in the remote South Pacific nation of Vanuatu, part of a new government program supported by Unicef and Australia.  Tong Ren Tang, the world’s largest producer of traditional Chinese medicine, is being investigated after a TV documentary reported it was using expired honey in its products. Smarter LivingTips for a more fulfilling life. Recipe of the day: Make our most popular recipe of the year: chicken francese. You can be an ethical tech consumer. Here’s how. Master the art of booking a cruise.Noteworthy Our 52 Places Traveler, low on energy after nearly a year on the road, found beauty and respite in Bhutan, where black-necked cranes from heaven dot the landscape and flags guide the soul. Above, a landmark in Bhutan. Saturn with no rings? The icy bands could whittle down to nothing in 300 million years, or sooner, scientists said. Tinder and Bumble have a new strategy: Make dating fun again.Back StoryChina and the U.S. may have declared a truce in their trade war, but it’s far from over.This gives us the opportunity for a language lesson.The English word “trade” is Germanic, originally meaning “track” or “path.” Its modern usage evolved from a Dutch word referring to “means of living,” as in the carpentry trade. Over time, the trade of buying and selling goods came to be called simply “trade.”In Mandarin Chinese, the word for trade is “màoyì” (“trade war” is “màoyì zhàn,” pronounced MAU-ee-jahn).The character mào (贸) means “to trade,” while yì (易) means “to exchange.”Yì also has the meaning “easy,” and the character appears in the Chinese word for “easy,” which is “róngyì” (容易).Of course, these days trade between China and the U.S. is anything but.Jennifer Jett, an editor in our Hong Kong office, wrote today’s Back Story._____Your Morning Briefing is published weekday mornings and updated online. Sign up here to get it by email in the Australian, Asian, European or American morning. You can also receive an Evening Briefing on U.S. weeknights. And our Australia bureau chief offers a weekly letter adding analysis and conversations with readers. Browse our full range of Times newsletters here.What would you like to see here? Contact us at asiabriefing@nytimes.com.HONG KONG — The announcement that the Chinese Communist Party intends to drop a two-term limit on the presidency is the latest sign that Xi Jinping is moving to strengthen the authority of the government and his position atop it.By upending a model of collective leadership that was put in place after the excesses of one-man rule and the power struggles that followed the deaths of Mao Zedong and Deng Xiaoping, President Xi has shown a determination to rewrite the rule book but also to reimpose older norms of a strong single leader ruling China. The prospect that he will rule for years to come has raised concerns about oppression at home and potential truculence abroad.Mr. Xi, the son of Communist Party elite, came to power with a long history of working his way up the ranks of officialdom, deftly sidelining rivals and rolling over dissent as he cultivated alliances and strengthened his control over the government, the economy and the military.Here is a guide to The New York Times’s coverage of the key moments of his life and political career.Born to the Communist Party elite Mr. Xi is the son of Xi Zhongxun, a revolutionary leader under Mao Zedong who served as vice premier. When the elder Xi was purged by Mao in the 1960s, his family suffered, too. A bookish young boy, Xi Jinping “hardened into a combative street survivor” during the first two years of the Cultural Revolution, when he was a target of abuse. In an interview describing his experiences during the Cultural Revolution, Mr. Xi said he was smiling when he was sent to work in the countryside along with millions of other “sent-down youth,” while everyone else on the train from Beijing was crying. He said he was happy because he knew that leaving the capital meant he would survive.Showing a deft political touch early on After the Cultural Revolution, when people were still trying to return to the cities from the countryside, Mr. Xi made an unusual request to be given a leadership post in a poor rural area. The move revealed his shrewdness as he built Communist Party ties and developed a record of local leadership. Later, he took up positions in Fujian and Zhejiang, coastal provinces that have been centers of economic growth. There, he showed a pragmatic style and an ability to balance the interests of powerful officials and big business.Confronting corruption and centralizing power After rising to the top of the Communist Party in November 2012 and the presidency four months later, Mr. Xi began an aggressive campaign against corruption that sidelined many key political rivals, or “tigers,” and punished tens of thousands of lower officials, or “flies.” The “most dangerous tiger yet,” Zhou Yongkang, the former head of domestic security, was sentenced to life in prison for abuse of power, accepting bribes and revealing state secrets. Mr. Zhou was the first retired or active member of the elite Politburo Standing Committee to face charges. While the announcement about ending term limits was itself a surprise, Mr. Xi has sent consistent signals that he wanted to stick around longer than his predecessors Jiang Zemin and Hu Jintao, who each served two five-year terms as president. Last fall the Communist Party revealed a new Politburo Standing Committee, but not one of the six men standing with Mr. Xi was his heir apparent. At the same meeting, the party added “Xi Jinping Thought” to the Constitution, an ideological status equivalent to Mao.Projecting a softer image While Mr. Xi has used a steely edge to consolidate power, he has tried to convey an image of a softer, more human leader than his predecessors. “He has made the sorts of casual visits that were rare for modern Chinese leaders — for example, visiting a steamed bun shop for lunch in 2013.”Controlling the military and economic leadership Mr. Xi has moved to strengthen control over China’s military, toppling top generals in the anticorruption campaign and shrinking troop numbers while investing more in the ability of air and naval forces to project power. He has also played a central role in economic decision making, a role that traditionally has been taken up by China’s premier. His promotion of infrastructure projects around the world under the Belt and Road initiative aims to “use China’s wealth and industrial know-how to create a new kind of globalization that will dispense with the rules of the aging Western-dominated institutions.”Crackdown on dissent and tough talk for Hong Kong Mr. Xi has also carried out a broad crackdown on dissent, “sidelining lawyers, journalists, academics and activists who stand in the party’s way.” Last year Liu Xiaobo, the Nobel Peace Prize laureate who was imprisoned for organizing a pro-democracy manifesto, died under guard in a hospital. Mr. Xi has also taken a tough stance on Taiwan, the self-ruled island that China claims as part of its territory, and Hong Kong, the semiautonomous Chinese city where people have protested against Beijing’s growing influence. In a speech in Hong Kong last year he warned against “any attempt to endanger China’s sovereignty and security” or to “challenge the power of the central government.”President Xi Jinping’s efforts to indefinitely extend his rule as China’s leader, announced on Sunday, raised fresh fears in China of a resurgence of strongman politics — and fears abroad of a new era of hostility and gridlock.Mr. Xi, who has been president since 2013, has tried to cultivate an image as a benevolent father figure who is working to promote China’s peaceful rise.But the ruling Communist Party’s decision to open a path to a third term for Mr. Xi heightened a sense of resentment in China among academics, lawyers, journalists and business executives. Many have watched warily as Mr. Xi has used his power to imprison scores of dissidents, stifle free speech and tighten oversight of the economy, the world’s second largest.Wu Qiang, a political analyst in Beijing who is critical of Mr. Xi, said the change to the Constitution would turn Mr. Xi into a “super-president.”“He will have no limits on his power,” he said.Government censors rushed to block criticism of the decision. Internet memes depicted Mr. Xi as an emperor with no regard for the rule of law and showed a portrait of Mr. Xi replacing Mao’s hallowed image in Tiananmen Square. Another repurposed an ad for Durex condoms, adding a tag line — “Twice is not enough” — to poke fun at the idea of Mr. Xi angling for a third term.The party’s move comes as Mr. Xi has proclaimed an era of China’s greatness, when the country, he says, will take what he sees as its rightful place as a top global power. Already, it is establishing military bases in the Western Pacific and Africa, building infrastructure across Asia, parts of Europe and Africa, and running what Mr. Xi hopes will be the world’s No. 1 economy within two decades or sooner.“China feels it is on the road to great power status and they want to perpetuate the trajectory they are on,” said David Finkelstein, director of China Studies at CNA, a research institute in Arlington, Va.Some analysts outside China said they worried that allowing Mr. Xi one-man rule might worsen an increasingly tense relationship between the United States and China.After years of efforts by the United States to engage China on issues from market reform to climate change to human rights, the Trump administration turned on Beijing last December and called China a strategic competitor in its first national security document.Washington policy makers are preparing plans to impose tariffs on some Chinese imports, limit Chinese investments in the United States, particularly in technology, and spend more on the United States military to sustain its big advantage over the People’s Liberation Army.In congressional testimony earlier this month, the director of the F.B.I., Christopher Wray, described China as “not just a whole of government threat but a whole of society threat.”Mr. Trump may well see Mr. Xi’s consolidation of power as part of a global trend toward increasingly influential leaders, in which he might include himself along with Mr. Xi and Vladimir V. Putin, the Russian leader, said James Mann, the author of “The China Fantasy,” which contradicted the popular view that increasing prosperity would lead to political liberalization in China.“I’m guessing he will not deplore the lack of democracy in China, because that’s the sort of thing he rarely if ever does,” Mr. Mann said of Mr. Trump.Mr. Mann also said Mr. Trump might not have much problem with what Mr. Xi had accomplished.“Over the past 14 months in office, Trump has almost never voiced the sort of support for our constitutional system that has been a staple in the statements of past presidents,” Mr. Mann said. “He does not respect the dignity or integrity of political opponents. He does not express support for the independence of the courts or the freedom of the press.”So if anything, he said, “I think Trump is probably jealous.”From Clinton to Bush to Obama, the prevailing belief was engagement with China would make China more like the West.Instead, as Mr. Mann predicted, China has gone in the opposite direction.Shi Yinhong, professor of international relations at Renmin University in Beijing, said Mr. Xi most likely did not care how the world would interpret his designation as a potential ruler in perpetuity.With an unlimited term in office, Mr. Xi would almost certainly be in office beyond 2024, the year Mr. Trump would leave the White House if he won a second term.“This objectively makes him stronger than Trump, who has no reason to like the change,” Mr. Shi said.At home, Mr. Xi will probably have considerable support for a third term, the result of a yearslong campaign to sideline political rivals and limit dissent. And nationalists cheered the decision, describing Mr. Xi as a singular force who could restore the glory of the nation.But as the news spread, readings of Hannah Arendt, who wrote about the evils of totalitarian rule, and passages from George Washington, who retired after two terms as president, were discussed on social media in Chinese legal circles.Douglas H. Paal, a China expert at the Carnegie Endowment for International Peace, said the sudden move, before Mr. Xi even starts his second term next month, suggested that things were not “normal” within the Communist Party.“This looks like forced marching, not normal order, so something is going on,” Mr. Paal said. “Xi is winning, but it will take sleuthing to find out what. These are not ordinary times.”A series of visits by senior Chinese officials to Washington in the past month to try and persuade the Trump administration to slow down plans to introduce punitive measures that could result in a trade war had failed, Mr. Paal said.“This could get complicated when controversial U.S. initiatives meet unconventional times in China,” he said.Still, Mr. Xi is popular in many areas — his fans affectionately call him “Uncle Xi” — and his brand of folksy nationalism wins accolades, especially in rural areas. Experts said Mr. Xi would probably benefit from the perception in China that the rest of the world is chaotic.“With a population amazed at the incompetent mess in much of the rest of the world, and intoxicated by nationalism, for Xi to effect this change will be seen as reasonable,” said Kerry Brown, a professor of Chinese politics at King’s College, London.But Mr. Xi’s assumption of unfettered power may not work out the way he thinks, said Peter Jennings, executive director of the Australian Strategic Policy Institute, and a former senior Australian defense official.“The risks to his personal fortunes are huge,” he said. “What if the People’s Liberation Army decides he should be cut loose?” And, he added, “What if growth slows more than expected?”If Mr. Xi comes under pressure at home or abroad, he could become unpredictable, and even dangerous, Mr. Jennings said. The reach for more personal power could be the start of his downfall.“The West can take no comfort in that because Xi’s situation means he may take more risks in the South China Sea or over Taiwan,” he said. “He has nothing to lose and everything to gain by engaging in more Putin-like brinkmanship.”Moreover, he added, “Where does one ever see the ‘president for life’ model end well?”TAIPEI — Taiwan President Tsai Ing-wen called on Saturday for international support to defend the self-ruled island's democracy and way of life in the face of renewed threats from China. Tsai's comments came days after Chinese President Xi Jinping said nobody could change the fact that Taiwan was part of China, and that people on both sides of the Taiwan Strait should seek \"reunification\".\"We hope that the international community takes it seriously and can voice support and help us,\" Tsai told reporters in Taipei, referring to threats by China to use force to bring Taiwan under its control.If the international community did not support a democratic country that was under threat, \"we might have to ask which country might be next?\" Tsai added.Taiwan is China's most sensitive issue and is claimed by Beijing as its sacred territory. Xi has stepped up pressure on the democratic island since Tsai from the pro-independence Democratic Progressive Party became president in 2016.President Xi said on Wednesday that China reserves the right to use force to bring Taiwan under its control but will strive to achieve peaceful \"reunification\" with the island. In response, Tsai has said the island would not accept a \"one country, two systems\" political arrangement with China, while stressing all cross-Strait negotiations needed to be carried out on a government-to-government basis. Tsai on Saturday also urged China to have a \"correct understanding\" of what Taiwanese think and said actions such as political bullying were unhelpful in cross-strait relations. (Reporting by Yimou Lee; Editing by Anne Marie Roantree and Jacqueline Wong)Leader Kim Jong-un of North Korea has met for a fourth time with China’s president, Xi Jinping. He’s still waiting for a second coveted summit with President Trump. With Beijing seemingly in his corner, and few words from the White House, Mr. Kim has mused about possibly finding “a new way” forward on denuclearization.Follow The New York Times Opinion section on Facebook, Twitter (@NYTopinion) and Instagram.BEIJING — Trade talks between China and the United States will continue on Wednesday, a U.S. government official told reporters.U.S. and Chinese officials are conducting talks in Beijing, their first since U.S. President Donald Trump and Chinese President Xi Jinping agreed to a 90-day truce in a trade war that has roiled global financial markets. (Reporting by Philip Wen; Writing by Ryan Woo; Editing by Paul Tait)BEIJING — A train believed to be carrying North Korean leader Kim Jong Un left a station in the Chinese capital on Wednesday, a Reuters witness said. Kim was invited to Beijing by Chinese President Xi Jinping to visit China amid negotiations for a second summit between Kim and U.S. President Donald Trump. Neither Chinese nor North Korean state media have disclosed details of the visit.  (Reporting by Jason Lee and Se Young Lee; Editing by Nick Macfie)President Trump and President Xi Jinping of China have agreed to a 90-day pause in the escalating economic trade war. Follow The New York Times Opinion section on Facebook, Twitter (@NYTopinion) and Instagram.BEIJING — When President Trump and President Xi Jinping turned away from their flower-draped lecterns here on Thursday without taking questions from reporters, the sense of a missed opportunity spread through the cavernous room in the Great Hall of the People.American presidents typically use such visits to persuade inaccessible, often autocratic, foreign leaders to face the news media. I was a beneficiary of that custom in 2014, when Mr. Xi stood next to President Barack Obama in the same building, having grudgingly agreed to take two questions — one from a Chinese and one from an American correspondent.Mr. Obama’s aides had haggled for weeks with Chinese officials to extract that agreement. They were so driven, in part, because Mr. Obama had come under sharp criticism in 2009, during his first visit, when the Chinese did not allow questions during his appearance with Mr. Xi’s predecessor, Hu Jintao. (Journalists had been able to ask questions during visits by Presidents Bill Clinton and George W. Bush.)And so, on Nov. 12, 2014, as I was preparing to join my colleagues for the bus ride from our hotel to the Great Hall of the People, I was pulled aside by Eric H. Schultz, then Mr. Obama’s deputy press secretary, who told me to expect to be called on at the news conference.The White House’s choice of The New York Times was laden with symbolism. At the time, the Chinese government had declined to renew the visas of several Times correspondents in China as a reprisal for its coverage of the financial dealings of Chinese leaders and their families.Asking questions of a president is nerve-racking under any circumstances. But when I heard my name called by the press secretary, Josh Earnest, in the Great Hall, it felt like stepping to the plate at Yankee Stadium.I stood up and, with camera bulbs flashing, asked Mr. Xi two questions: Did he view Mr. Obama’s Asia pivot as a threat to China? And would China ease its refusal to give visas to correspondents in light of a broader visa agreement it had just signed with the United States?I also asked Mr. Obama a somewhat long-winded question about the rise of anti-American sentiment in China, which prompted him to say, “Come on, Mark,” and joke, after I was finished, that he had forgotten my question (I assumed that was for the benefit of his host).At first, President Xi looked as if he was going to simply ignore the impudent foreigner. He instructed the moderator to move on, taking a scripted question from a Chinese state-owned paper. Mr. Obama, who was clearly eager to hear Mr. Xi’s answer, shot me a glance and a theatrical shrug, the presidential equivalent of “nice try, buddy.”It turned out that Mr. Xi was merely biding his time. After he answered the Chinese journalist, he circled back to me and delivered a curt lecture. No, he said, the pivot was not about containment. And the visa problems of The Times were of our own making.China protected freedom of expression, he said, but “media outlets need to obey China’s laws and regulations. When a car breaks down on the road, perhaps we need to get off the car to see where the problem lies. And when a certain issue is raised as a problem, there must be a reason.”“In Chinese, we have a saying,” he concluded. “The party which has created a problem should be the one to help resolve it.”As the White House press corps filed out of the room, one of my colleagues joked that he hoped the Chinese would allow me to leave the country. The Chinese media reported that I had violated the ground rules by directing a question to Mr. Xi, rather than only to Mr. Obama. (The White House did not instruct me to address only the American president.)The whole negotiation was somewhat opaque, Mr. Earnest recalled this week. Even as he stood next to the leaders in the Great Hall that day, he said he was not sure the Chinese would follow through on the agreement.The episode apparently did not sit well with the Chinese. On Thursday, Mr. Trump’s press secretary, Sarah Huckabee Sanders, said, “It was at the Chinese insistence there were no questions.”Former aides to Mr. Obama and Mr. Bush criticized the Trump White House for not trying harder.“They always insist, Sarah,” Susan E. Rice, who served as Mr. Obama’s national security adviser, said in a tweet. “The trick is to use diplomacy to extract that concession as a matter of principle, despite their resistence.”Brad Dayspring, deputy director of press advance for Mr. Bush, tweeted, “Never got everything we pushed for, but always expanded access from Chinese demands & ensured questions were taken alongside Chinese President. It’s an important demonstration of American press freedoms.”In Tokyo and Seoul, Mr. Trump took questions with the leaders of Japan and South Korea. But striking a blow for press freedom did not seem high on his list of priorities in Beijing. He did not say whether he had pressed Mr. Xi behind closed doors on human rights issues.Mr. Obama, by contrast, got mileage out of the episode. Two days later, he was standing next to Aung San Suu Kyi, the Burmese pro-democracy leader, in the garden of her lakeside house in Yangon, and brought up the tense Q. and A. in the Great Hall of the People.“When I am traveling, it is important as the president of the United States to not just talk about our interests, but also to talk about our values,” Mr. Obama said. “Sometimes it has an impact; sometimes it doesn’t.”“Although I was impressed that Mark Landler got an answer to his question from President Xi,” he added. “It might not have been the one he was expecting, but he did end up taking the question. So you just keep on chipping away and seeing if we can make progress.”\n"
     ]
    }
   ],
   "source": [
    "# Reference https://stackoverflow.com/questions/14596884/remove-text-between-and-in-python\n",
    "import re \n",
    "text = re.sub(\"([\\[]).*?([\\]])\", \"\\g<1>\\g<2>\", text)\n",
    "text = text.replace(\"■\",\"\").replace(\"•\",\"\").replace(\"[\",\"\").replace(\"]\",\"\") \n",
    "print(text)"
   ]
  },
  {
   "cell_type": "markdown",
   "metadata": {},
   "source": [
    "### Q1. In a few sentences, please describe the text (or corpus/corpora) you have chosen and any pre-processing steps (“cleaning”) you employed, along with a brief comment on why you chose it.\n"
   ]
  },
  {
   "cell_type": "markdown",
   "metadata": {},
   "source": [
    "I used NYtimes API to search articles about President Xi and cleaned the searching results for this assignment. The contents of articles are quite clean. I only removed some bullet points from the text and words in \"[]\" as \"[]\" that are used to show the link address."
   ]
  },
  {
   "cell_type": "code",
   "execution_count": 102,
   "metadata": {},
   "outputs": [],
   "source": [
    "tokens = word_tokenize(text)\n",
    "text = nltk.Text(tokens)"
   ]
  },
  {
   "cell_type": "markdown",
   "metadata": {},
   "source": [
    "### Q2.\tProvide the raw length of your text (in characters/letters)."
   ]
  },
  {
   "cell_type": "code",
   "execution_count": 108,
   "metadata": {},
   "outputs": [
    {
     "data": {
      "text/plain": [
       "5493"
      ]
     },
     "execution_count": 108,
     "metadata": {},
     "output_type": "execute_result"
    }
   ],
   "source": [
    "len(text)"
   ]
  },
  {
   "cell_type": "markdown",
   "metadata": {},
   "source": [
    "### Q3. Provide the number of tokens in your text (use “set” to get the tokens)."
   ]
  },
  {
   "cell_type": "code",
   "execution_count": 109,
   "metadata": {},
   "outputs": [
    {
     "data": {
      "text/plain": [
       "1805"
      ]
     },
     "execution_count": 109,
     "metadata": {},
     "output_type": "execute_result"
    }
   ],
   "source": [
    "len(set(text))"
   ]
  },
  {
   "cell_type": "markdown",
   "metadata": {},
   "source": [
    "### Q4.\tProvide the lexical diversity score for your text, and comment on where yours falls relative to the texts we examined in Assignment 1 (and speculate why)."
   ]
  },
  {
   "cell_type": "code",
   "execution_count": 110,
   "metadata": {},
   "outputs": [],
   "source": [
    "def lexical_diversity(text):   \n",
    "    return len(set(text)) / len(text)"
   ]
  },
  {
   "cell_type": "code",
   "execution_count": 111,
   "metadata": {},
   "outputs": [
    {
     "data": {
      "text/plain": [
       "0.3286000364099763"
      ]
     },
     "execution_count": 111,
     "metadata": {},
     "output_type": "execute_result"
    }
   ],
   "source": [
    "lexical_diversity(text)"
   ]
  },
  {
   "cell_type": "markdown",
   "metadata": {},
   "source": [
    "The score is close to text8 (Personals Corpus), 0.223. Both text8 and my chosen text include different people's article or corpus, which contributes to the lexcial richness."
   ]
  },
  {
   "cell_type": "markdown",
   "metadata": {},
   "source": [
    "### Q5.\tRemove all punctuation from your text, and provide the raw length, number of tokens and lexical diversity score again."
   ]
  },
  {
   "cell_type": "code",
   "execution_count": 119,
   "metadata": {},
   "outputs": [
    {
     "name": "stdout",
     "output_type": "stream",
     "text": [
      "The raw length of new text is 4563 \n",
      "The number of tokens is 1545 \n",
      "The lexical diversity score is 0.33859303090072324\n"
     ]
    }
   ],
   "source": [
    "# go a step further and eliminate numbers and punctuation from the vocabulary count by filtering out any non-alphabetic items\n",
    "removedtext = [word.lower() for word in text if word.isalpha()]\n",
    "print(\"The raw length of new text is\", len(removedtext),'\\n'\n",
    "      \"The number of tokens is\", len(set(removedtext)),'\\n'\n",
    "      \"The lexical diversity score is\",lexical_diversity(removedtext) )"
   ]
  },
  {
   "cell_type": "markdown",
   "metadata": {},
   "source": [
    "### Q6.\tRemove all stopwords from your text (with the punctuation removed as in #5), and provide the raw length, number of tokens and lexical diversity score again."
   ]
  },
  {
   "cell_type": "code",
   "execution_count": 123,
   "metadata": {},
   "outputs": [
    {
     "name": "stdout",
     "output_type": "stream",
     "text": [
      "The raw length of new text is 2592 \n",
      "The number of tokens is 1440 \n",
      "The lexical diversity score is 0.5555555555555556\n"
     ]
    }
   ],
   "source": [
    "stopwords = nltk.corpus.stopwords.words('english')\n",
    "removedtext2 = [w for w in removedtext if w not in stopwords]\n",
    "print(\"The raw length of new text is\", len(removedtext2),'\\n'\n",
    "      \"The number of tokens is\", len(set(removedtext2)),'\\n'\n",
    "      \"The lexical diversity score is\",lexical_diversity(removedtext2) )"
   ]
  },
  {
   "cell_type": "markdown",
   "metadata": {},
   "source": [
    "### Q7.\tComment on what the differences between the length, numbers of tokens and lexical diversity for your text with everything, without punctuation and without stopwords tell you about the text, and whether you found any of these results surprising or particularly interesting."
   ]
  },
  {
   "cell_type": "code",
   "execution_count": 131,
   "metadata": {},
   "outputs": [],
   "source": [
    "import nltk\n",
    "from nltk.book import *"
   ]
  },
  {
   "cell_type": "code",
   "execution_count": 128,
   "metadata": {},
   "outputs": [
    {
     "name": "stdout",
     "output_type": "stream",
     "text": [
      "The raw length of text8 is 4867 \n",
      "The number of tokens in text8 is 1108 \n",
      "The lexical diversity score of new text8 is 0.22765564002465585\n"
     ]
    }
   ],
   "source": [
    "print(\"The raw length of text8 is\", len(text8),'\\n'\n",
    "      \"The number of tokens in text8 is\", len(set(text8)),'\\n'\n",
    "      \"The lexical diversity score of new text8 is\",lexical_diversity(text8) )"
   ]
  },
  {
   "cell_type": "code",
   "execution_count": 127,
   "metadata": {},
   "outputs": [
    {
     "name": "stdout",
     "output_type": "stream",
     "text": [
      "The raw length of new text8 is 2548 \n",
      "The number of tokens in new text8 is 694 \n",
      "The lexical diversity score of new text8 is 0.27237048665620095\n"
     ]
    }
   ],
   "source": [
    "removedtext8 = [word.lower() for word in text8 if word.isalpha()]\n",
    "removedtext82 = [w for w in removedtext8 if w not in stopwords]\n",
    "print(\"The raw length of new text8 is\", len(removedtext82),'\\n'\n",
    "      \"The number of tokens in new text8 is\", len(set(removedtext82)),'\\n'\n",
    "      \"The lexical diversity score of new text8 is\",lexical_diversity(removedtext82) )"
   ]
  },
  {
   "cell_type": "markdown",
   "metadata": {},
   "source": [
    "Without punctuation and stopwords, the raw length and numbers of tokens decrease, but the lexical diversity score increases. The raw length reduces by half compared the raw text in Q6 (2592) with the anwser to Q2 (5493). The number of tokens also reduces from 1805 to 1440. The lexical diversity increases from 0.3286000364099763 to 0.5555555555555556. I expect to see the increase of lexical diversity score when I removed punctuation and stopwords, but I am suprised to see such a high score (0.55). So I do the same to text8 as text 8 and my chosen text have similar lexical diversity score (Q4). The changes of lexical diversity score for text8 is not that big, only from 0.23 to 0.27. The reason of the difference between my text and text 8 could be articles on nytimes are more professional, complex and diverse."
   ]
  },
  {
   "cell_type": "markdown",
   "metadata": {},
   "source": [
    "### Q8.\tProvide all words in your text with lengths greater than 12 letters."
   ]
  },
  {
   "cell_type": "code",
   "execution_count": 130,
   "metadata": {},
   "outputs": [
    {
     "data": {
      "text/plain": [
       "['administration',\n",
       " 'affectionately',\n",
       " 'anticorruption',\n",
       " 'circumstances',\n",
       " 'congressional',\n",
       " 'consolidation',\n",
       " 'constitutional',\n",
       " 'controversial',\n",
       " 'conversations',\n",
       " 'correspondents',\n",
       " 'cybersecurity',\n",
       " 'demonstration',\n",
       " 'determination',\n",
       " 'globalization',\n",
       " 'infrastructure',\n",
       " 'international',\n",
       " 'investigators',\n",
       " 'liberalization',\n",
       " 'manufacturing',\n",
       " 'misrepresented',\n",
       " 'reunification',\n",
       " 'revolutionary',\n",
       " 'semiautomatic',\n",
       " 'semiautonomous',\n",
       " 'traditionally',\n",
       " 'unconventional',\n",
       " 'understanding',\n",
       " 'unpredictable']"
      ]
     },
     "execution_count": 130,
     "metadata": {},
     "output_type": "execute_result"
    }
   ],
   "source": [
    "V = set(removedtext2)\n",
    "long_words = [w for w in V if len(w) > 12]\n",
    "sorted(long_words)"
   ]
  },
  {
   "cell_type": "markdown",
   "metadata": {},
   "source": [
    "### Q9.\tProvide the output of the “unusual_words_many_no_endings_s_ed_ing” function (see page 2)  for your text.  Comment on what these words tell you about your text."
   ]
  },
  {
   "cell_type": "code",
   "execution_count": 132,
   "metadata": {},
   "outputs": [],
   "source": [
    "from nltk.corpus import words\n",
    "from nltk.corpus import wordnet \n",
    "\n",
    "def unusual_words(text):\n",
    "    text_vocab = set(w.lower() for w in text if w.isalpha())\n",
    "    english_vocab = set(w.lower() for w in nltk.corpus.words.words())\n",
    "    unusual = text_vocab - english_vocab\n",
    "    return sorted(unusual)\n",
    "\n",
    "def unusual_words_many(text):\n",
    "    text_vocab = set(w.lower() for w in text if w.isalpha())\n",
    "    manywords = nltk.corpus.words.words() + list(nltk.corpus.wordnet.words())\n",
    "    english_vocab = set(w.lower() for w in manywords)\n",
    "    unusual = text_vocab - english_vocab\n",
    "    return sorted(unusual)\n",
    "\n",
    "def unusual_words_many_no_endings_s_ed_ing(text):\n",
    "    ut1 = unusual_words(text)\n",
    "    print(str(len(ut1))+\" words not in words.words\\n\")\n",
    "    ut2 = unusual_words_many(text)\n",
    "    print(str(len(ut2))+\" words not in words.words + wordnet.words\\n\")\n",
    "    ut3 = sorted(set(w.lower() for w in ut2 if not w.endswith(\"s\") and not w.endswith(\"ed\") and not w.endswith(\"ing\")))\n",
    "    print(str(len(ut3))+\" words not in words.words + wordnet.words + no -s, -ed and -ing :\\n\")\n",
    "    print(ut3)\n",
    "    # -en plurals, -er and -est still not uncommon\n"
   ]
  },
  {
   "cell_type": "code",
   "execution_count": 133,
   "metadata": {},
   "outputs": [
    {
     "name": "stdout",
     "output_type": "stream",
     "text": [
      "414 words not in words.words\n",
      "\n",
      "295 words not in words.words + wordnet.words\n",
      "\n",
      "62 words not in words.words + wordnet.words + no -s, -ed and -ing :\n",
      "\n",
      "['anticorruption', 'aung', 'barack', 'became', 'began', 'broader', 'children', 'cna', 'cybersecurity', 'deng', 'durex', 'facebook', 'finkelstein', 'flynn', 'francese', 'fujian', 'hannah', 'huawei', 'huckabee', 'instagram', 'jacqueline', 'jett', 'jiang', 'jintao', 'kong', 'kyi', 'largest', 'liu', 'macfie', 'mossberg', 'mào', 'màoyì', 'nytopinion', 'obama', 'ren', 'renmin', 'roantree', 'ryan', 'róngyì', 'schultz', 'selfie', 'smarter', 'softer', 'storychina', 'stronger', 'tiananmen', 'tsai', 'wray', 'xiaobo', 'yearslong', 'yimou', 'yinhong', 'yongkang', 'yì', 'zedong', 'zemin', 'zhejiang', 'zhongxun', 'zhàn', '容易', '易', '贸']\n"
     ]
    }
   ],
   "source": [
    "unusual_words_many_no_endings_s_ed_ing(removedtext2)"
   ]
  },
  {
   "cell_type": "markdown",
   "metadata": {},
   "source": [
    "Some words are Chinese Pinyin ('mào'), Chinese lastname ('liu') and Chinese characters ('容易'). Some are brand name ('huawei') and place names ('zhejiang'). Some are different morphologies of words ('softer'). Others are uncommon words ('cybersecurity') or created by formatting problems ('storychina')."
   ]
  },
  {
   "cell_type": "markdown",
   "metadata": {},
   "source": [
    "### Q10.\tProvide the most common 50 words in your text (the 50 “most frequent”) after punctuation and stopwords have been removed.  Comment on whether any of them are surprising to you and what they indicate about the text."
   ]
  },
  {
   "cell_type": "code",
   "execution_count": 134,
   "metadata": {},
   "outputs": [
    {
     "data": {
      "text/plain": [
       "[('xi', 67),\n",
       " ('china', 44),\n",
       " ('said', 35),\n",
       " ('chinese', 34),\n",
       " ('president', 31),\n",
       " ('trump', 24),\n",
       " ('would', 15),\n",
       " ('new', 15),\n",
       " ('power', 14),\n",
       " ('party', 13),\n",
       " ('trade', 13),\n",
       " ('obama', 13),\n",
       " ('jinping', 12),\n",
       " ('one', 11),\n",
       " ('also', 11),\n",
       " ('beijing', 11),\n",
       " ('political', 10),\n",
       " ('two', 10),\n",
       " ('communist', 9),\n",
       " ('first', 9),\n",
       " ('people', 8),\n",
       " ('united', 8),\n",
       " ('states', 8),\n",
       " ('security', 8),\n",
       " ('house', 8),\n",
       " ('times', 8),\n",
       " ('leader', 8),\n",
       " ('questions', 8),\n",
       " ('country', 7),\n",
       " ('media', 7),\n",
       " ('officials', 7),\n",
       " ('year', 7),\n",
       " ('white', 7),\n",
       " ('might', 7),\n",
       " ('government', 7),\n",
       " ('world', 7),\n",
       " ('could', 7),\n",
       " ('rule', 7),\n",
       " ('taiwan', 7),\n",
       " ('tsai', 7),\n",
       " ('press', 7),\n",
       " ('get', 6),\n",
       " ('economic', 6),\n",
       " ('war', 6),\n",
       " ('like', 6),\n",
       " ('leaders', 6),\n",
       " ('great', 6),\n",
       " ('support', 6),\n",
       " ('question', 6),\n",
       " ('make', 5)]"
      ]
     },
     "execution_count": 134,
     "metadata": {},
     "output_type": "execute_result"
    }
   ],
   "source": [
    "fdist = FreqDist(removedtext2)\n",
    "fdist.most_common(50)"
   ]
  },
  {
   "cell_type": "markdown",
   "metadata": {},
   "source": [
    "There are only one unexpected word, \"White\". I am curious that how articles about Chinese president discuss White group or the color white?"
   ]
  },
  {
   "cell_type": "markdown",
   "metadata": {},
   "source": [
    "### Q11.\tCompare the most common 50 words in your text to the most common 50 words in one of the 9 built-in texts we used in Assignment 1, with punctuation and stopwords removed.  Comment on any similarities or differences you note, and what these similarities and differences indicate about the texts themselves.\n"
   ]
  },
  {
   "cell_type": "code",
   "execution_count": 136,
   "metadata": {},
   "outputs": [
    {
     "data": {
      "text/plain": [
       "[('lady', 88),\n",
       " ('seeks', 72),\n",
       " ('male', 42),\n",
       " ('looking', 34),\n",
       " ('ship', 33),\n",
       " ('slim', 33),\n",
       " ('fun', 31),\n",
       " ('attractive', 29),\n",
       " ('relationship', 29),\n",
       " ('build', 27),\n",
       " ('good', 26),\n",
       " ('seeking', 25),\n",
       " ('non', 25),\n",
       " ('smoker', 23),\n",
       " ('n', 23),\n",
       " ('guy', 22),\n",
       " ('honest', 22),\n",
       " ('movies', 22),\n",
       " ('age', 21),\n",
       " ('married', 21),\n",
       " ('like', 20),\n",
       " ('friendship', 20),\n",
       " ('single', 19),\n",
       " ('rship', 19),\n",
       " ('dining', 19),\n",
       " ('fit', 19),\n",
       " ('r', 18),\n",
       " ('caring', 17),\n",
       " ('f', 17),\n",
       " ('tall', 16),\n",
       " ('interests', 16),\n",
       " ('enjoy', 16),\n",
       " ('likes', 16),\n",
       " ('times', 15),\n",
       " ('open', 15),\n",
       " ('genuine', 15),\n",
       " ('female', 15),\n",
       " ('meet', 15),\n",
       " ('life', 15),\n",
       " ('fship', 14),\n",
       " ('man', 14),\n",
       " ('gsoh', 14),\n",
       " ('music', 14),\n",
       " ('would', 14),\n",
       " ('social', 14),\n",
       " ('employed', 13),\n",
       " ('ft', 13),\n",
       " ('drinker', 13),\n",
       " ('poss', 13),\n",
       " ('medium', 12)]"
      ]
     },
     "execution_count": 136,
     "metadata": {},
     "output_type": "execute_result"
    }
   ],
   "source": [
    "fdist8 = FreqDist(removedtext82)\n",
    "fdist8.most_common(50)"
   ]
  },
  {
   "cell_type": "markdown",
   "metadata": {},
   "source": [
    "I still used text 8 for this question. The most common words for my chosen text are mainly about the heatedly discussed topics in political science and China, whereas the common words for text 8 are more about life and hobies as text 8 is a personal corpus."
   ]
  },
  {
   "cell_type": "code",
   "execution_count": null,
   "metadata": {},
   "outputs": [],
   "source": []
  }
 ],
 "metadata": {
  "kernelspec": {
   "display_name": "Python 3",
   "language": "python",
   "name": "python3"
  },
  "language_info": {
   "codemirror_mode": {
    "name": "ipython",
    "version": 3
   },
   "file_extension": ".py",
   "mimetype": "text/x-python",
   "name": "python",
   "nbconvert_exporter": "python",
   "pygments_lexer": "ipython3",
   "version": "3.6.4"
  }
 },
 "nbformat": 4,
 "nbformat_minor": 2
}
